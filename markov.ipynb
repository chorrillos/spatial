{
 "cells": [
  {
   "cell_type": "code",
   "execution_count": 1,
   "id": "5019854a",
   "metadata": {},
   "outputs": [],
   "source": [
    "import geopandas as gpd\n",
    "\n",
    "link=\"https://github.com/chorrillos/spatial/raw/main/WorldMapDemo.gpkg\"\n",
    "WorldDemo=gpd.read_file(link)"
   ]
  },
  {
   "cell_type": "code",
   "execution_count": 19,
   "id": "693c8ef2",
   "metadata": {},
   "outputs": [],
   "source": [
    "import numpy as np\n",
    "c = np.array([['b','a','a'],['c','c','a'],['c','b','b'],['a','a','b'],['a','b','c']])"
   ]
  },
  {
   "cell_type": "code",
   "execution_count": 20,
   "id": "79ac1aae",
   "metadata": {},
   "outputs": [
    {
     "name": "stdout",
     "output_type": "stream",
     "text": [
      "The Markov Chain is irreducible and is composed by:\n",
      "1 Recurrent class (indices):\n",
      "[0 1 2]\n",
      "0 Transient classes.\n",
      "The Markov Chain has 0 absorbing states.\n"
     ]
    }
   ],
   "source": [
    "import giddy\n",
    "m = giddy.markov.Markov(c)"
   ]
  },
  {
   "cell_type": "code",
   "execution_count": 21,
   "id": "df0e8f4f",
   "metadata": {},
   "outputs": [
    {
     "data": {
      "text/plain": [
       "array(['a', 'b', 'c'], dtype='<U1')"
      ]
     },
     "execution_count": 21,
     "metadata": {},
     "output_type": "execute_result"
    }
   ],
   "source": [
    "m.classes\n"
   ]
  },
  {
   "cell_type": "code",
   "execution_count": 23,
   "id": "0070ec72",
   "metadata": {},
   "outputs": [
    {
     "name": "stdout",
     "output_type": "stream",
     "text": [
      "[[2. 2. 0.]\n",
      " [1. 1. 1.]\n",
      " [1. 1. 1.]]\n"
     ]
    }
   ],
   "source": [
    "print(m.transitions)\n"
   ]
  },
  {
   "cell_type": "code",
   "execution_count": null,
   "id": "39a275b7",
   "metadata": {},
   "outputs": [],
   "source": []
  }
 ],
 "metadata": {
  "kernelspec": {
   "display_name": "Python 3 (ipykernel)",
   "language": "python",
   "name": "python3"
  },
  "language_info": {
   "codemirror_mode": {
    "name": "ipython",
    "version": 3
   },
   "file_extension": ".py",
   "mimetype": "text/x-python",
   "name": "python",
   "nbconvert_exporter": "python",
   "pygments_lexer": "ipython3",
   "version": "3.8.12"
  }
 },
 "nbformat": 4,
 "nbformat_minor": 5
}
