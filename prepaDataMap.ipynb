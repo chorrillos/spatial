{
 "cells": [
  {
   "cell_type": "markdown",
   "id": "a542a1ae",
   "metadata": {},
   "source": [
    "## Descargando mapa y data:"
   ]
  },
  {
   "cell_type": "code",
   "execution_count": 1,
   "id": "5ad984f0",
   "metadata": {},
   "outputs": [
    {
     "data": {
      "text/plain": [
       "Index(['FIPS', 'ISO2', 'ISO3', 'UN', 'NAME', 'AREA', 'POP2005', 'REGION',\n",
       "       'SUBREGION', 'LON', 'LAT', 'geometry'],\n",
       "      dtype='object')"
      ]
     },
     "execution_count": 1,
     "metadata": {},
     "output_type": "execute_result"
    }
   ],
   "source": [
    "import geopandas as gpd\n",
    "\n",
    "link=\"https://github.com/chorrillos/spatial/raw/main/worldMap.geojson\"\n",
    "WorldMap=gpd.read_file(link)\n",
    "WorldMap.columns"
   ]
  },
  {
   "cell_type": "code",
   "execution_count": 2,
   "id": "44feb94c",
   "metadata": {},
   "outputs": [
    {
     "data": {
      "text/plain": [
       "Index(['country', 'eiu', 'year'], dtype='object')"
      ]
     },
     "execution_count": 2,
     "metadata": {},
     "output_type": "execute_result"
    }
   ],
   "source": [
    "import pandas as pd\n",
    "link2=\"https://github.com/xmarquez/democracyData/raw/master/data-raw/EIU%20Democracy%20Index%202020.csv\"\n",
    "datademo=pd.read_csv(link2)\n",
    "datademo.columns"
   ]
  },
  {
   "cell_type": "code",
   "execution_count": 3,
   "id": "1223203d",
   "metadata": {},
   "outputs": [
    {
     "data": {
      "text/plain": [
       "Index(['Rank',\n",
       "       '.mw-parser-output .tooltip-dotted{border-bottom:1px dotted;cursor:help}Δ Rank',\n",
       "       'Country', 'Regime type', 'Overall score', 'Δ Score',\n",
       "       'Elec­toral pro­cessand plura­lism', 'Func­tioningof govern­ment',\n",
       "       'Poli­ticalpartici­pation', 'Poli­ticalcul­ture', 'Civilliber­ties'],\n",
       "      dtype='object')"
      ]
     },
     "execution_count": 3,
     "metadata": {},
     "output_type": "execute_result"
    }
   ],
   "source": [
    "# data 2021\n",
    "#install bs4 y html5lib\n",
    "link3=\"https://en.wikipedia.org/wiki/Democracy_Index\"\n",
    "data2021=pd.read_html(link3,flavor='bs4',header=0)[6]\n",
    "data2021.columns"
   ]
  },
  {
   "cell_type": "markdown",
   "id": "d69ea23b",
   "metadata": {},
   "source": [
    "Transformar de estilo largo a ancho"
   ]
  },
  {
   "cell_type": "code",
   "execution_count": null,
   "id": "c54e981f",
   "metadata": {},
   "outputs": [],
   "source": [
    "datademo=datademo.pivot(index='country', columns='year', values='eiu')\n",
    "datademo.reset_index(inplace=True)\n",
    "datademo"
   ]
  },
  {
   "cell_type": "code",
   "execution_count": null,
   "id": "13de189a",
   "metadata": {},
   "outputs": [],
   "source": [
    "#note\n",
    "datademo.columns"
   ]
  },
  {
   "cell_type": "code",
   "execution_count": null,
   "id": "61e5417f",
   "metadata": {},
   "outputs": [],
   "source": [
    "datademo.columns=[str(y) for y in datademo.columns]\n",
    "datademo.columns"
   ]
  },
  {
   "cell_type": "code",
   "execution_count": null,
   "id": "160414b5",
   "metadata": {},
   "outputs": [],
   "source": [
    "datademo.info()"
   ]
  },
  {
   "cell_type": "markdown",
   "id": "eb209eac",
   "metadata": {},
   "source": [
    "Limpiar 2021"
   ]
  },
  {
   "cell_type": "code",
   "execution_count": null,
   "id": "1297efac",
   "metadata": {},
   "outputs": [],
   "source": [
    "data2021.columns"
   ]
  },
  {
   "cell_type": "code",
   "execution_count": null,
   "id": "378ba3a7",
   "metadata": {},
   "outputs": [],
   "source": [
    "data2021.drop(data2021.columns[[0,1,3,4,5]],axis=1,inplace=True)"
   ]
  },
  {
   "cell_type": "code",
   "execution_count": null,
   "id": "fc27cf22",
   "metadata": {},
   "outputs": [],
   "source": [
    "#nota caracteres\n",
    "data2021.columns.to_list()"
   ]
  },
  {
   "cell_type": "code",
   "execution_count": null,
   "id": "171bfcd1",
   "metadata": {},
   "outputs": [],
   "source": [
    "#mejor\n",
    "data2021.columns.str.replace('\\N{SOFT HYPHEN}|\\s', '',regex=True).str.lower().to_list()"
   ]
  },
  {
   "cell_type": "code",
   "execution_count": null,
   "id": "529d8f5d",
   "metadata": {},
   "outputs": [],
   "source": [
    "data2021.columns=data2021.columns.str.replace('\\N{SOFT HYPHEN}|\\s', '',regex=True).str.lower().to_list()\n",
    "data2021.columns"
   ]
  },
  {
   "cell_type": "code",
   "execution_count": null,
   "id": "1ce5fd00",
   "metadata": {},
   "outputs": [],
   "source": [
    "#test\n",
    "datademo.merge(data2021).shape"
   ]
  },
  {
   "cell_type": "markdown",
   "id": "2d6d5c69",
   "metadata": {},
   "source": [
    "Detectar qué falta"
   ]
  },
  {
   "cell_type": "code",
   "execution_count": null,
   "id": "36f62498",
   "metadata": {},
   "outputs": [],
   "source": [
    "sinmatchDATA=list(set(datademo.country)- set(data2021.country))\n",
    "sinmatch2021=list(set(data2021.country)-set(datademo.country) )\n",
    "len(sinmatchDATA), len(sinmatch2021)"
   ]
  },
  {
   "cell_type": "code",
   "execution_count": null,
   "id": "199107df",
   "metadata": {},
   "outputs": [],
   "source": [
    "from thefuzz import process\n",
    "[(process.extractOne(country,sinmatch2021),country) for country in sorted(sinmatchDATA)]"
   ]
  },
  {
   "cell_type": "code",
   "execution_count": null,
   "id": "ea5cbf89",
   "metadata": {},
   "outputs": [],
   "source": [
    "#test\n",
    "data2021[data2021.country.str.contains(\"Kyr\")]"
   ]
  },
  {
   "cell_type": "code",
   "execution_count": null,
   "id": "2dec687a",
   "metadata": {},
   "outputs": [],
   "source": [
    "#cambios\n",
    "data2021.loc[data2021.country==\"Republic of the Congo\",\"country\"]=\"Congo (Brazzaville)\"\n",
    "#data2021.loc[data2021.country==\"Democratic Republic of the Congo\",\"country\"]=\"Democratic Republic of Congo\"\n",
    "data2021.loc[data2021.country==\"United Arab Emirates\",\"country\"]=\"UAE\"\n",
    "data2021.loc[data2021.country==\"United Kingdom\",\"country\"]=\"UK\"\n",
    "data2021.loc[data2021.country==\"United States\",\"country\"]=\"US\"\n",
    "data2021.loc[data2021.country==\"Kyrgyzstan\",\"country\"]=\"Kyrgyz Republic\""
   ]
  },
  {
   "cell_type": "code",
   "execution_count": null,
   "id": "6b7e8db2",
   "metadata": {},
   "outputs": [],
   "source": [
    "# dict de cambios:\n",
    "sinmatchDATA=list(set(datademo.country)- set(data2021.country))\n",
    "sinmatch2021=list(set(data2021.country)-set(datademo.country) )\n",
    "\n",
    "cambios2021Name={process.extractOne(country,sinmatch2021)[0]:country for country in sorted(sinmatchDATA)}\n",
    "cambios2021Name"
   ]
  },
  {
   "cell_type": "code",
   "execution_count": null,
   "id": "8efcf5e3",
   "metadata": {},
   "outputs": [],
   "source": [
    "# ejecutando cambios \n",
    "data2021.country.replace(cambios2021Name,inplace=True)\n",
    "data2021"
   ]
  },
  {
   "cell_type": "code",
   "execution_count": null,
   "id": "8d0e3d53",
   "metadata": {},
   "outputs": [],
   "source": [
    "datademo.merge(data2021).shape"
   ]
  },
  {
   "cell_type": "code",
   "execution_count": null,
   "id": "c3e1873d",
   "metadata": {},
   "outputs": [],
   "source": [
    "datademo=datademo.merge(data2021)"
   ]
  },
  {
   "cell_type": "markdown",
   "id": "5271fa6f",
   "metadata": {},
   "source": [
    "Para mapa:"
   ]
  },
  {
   "cell_type": "code",
   "execution_count": null,
   "id": "409a835f",
   "metadata": {},
   "outputs": [],
   "source": [
    "sinmatchDATA=list(set(datademo.country)- set(WorldMap.NAME))\n",
    "sinmatchMAP=list(set(WorldMap.NAME)-set(datademo.country) )\n",
    "len(sinmatchDATA), len(sinmatchMAP)"
   ]
  },
  {
   "cell_type": "code",
   "execution_count": null,
   "id": "b0cf7f97",
   "metadata": {},
   "outputs": [],
   "source": [
    "from thefuzz import process\n",
    "[(process.extractOne(country,sinmatchMAP),country) for country in sorted(sinmatchDATA)]"
   ]
  },
  {
   "cell_type": "markdown",
   "id": "cbaeaa3f",
   "metadata": {},
   "source": [
    "## Corrigiendo texto clave"
   ]
  },
  {
   "cell_type": "code",
   "execution_count": null,
   "id": "7c4076ab",
   "metadata": {},
   "outputs": [],
   "source": [
    "WorldMap.loc[WorldMap.NAME==\"Kyrgyzstan\",\"NAME\"]=\"Kyrgyz Republic\"\n",
    "WorldMap.loc[WorldMap.NAME==\"Korea, Democratic People's Republic of\",\"NAME\"]=\"North Korea\"\n",
    "WorldMap.loc[WorldMap.NAME==\"Korea, Republic of\",\"NAME\"]=\"South Korea\"\n",
    "WorldMap.loc[WorldMap.NAME==\"Burma\",\"NAME\"]=\"Myanmar\"\n",
    "WorldMap.loc[WorldMap.NAME==\"United Arab Emirates\",\"NAME\"]=\"UAE\"\n",
    "WorldMap.loc[WorldMap.NAME==\"United Kingdom\",\"NAME\"]=\"UK\"\n",
    "WorldMap.loc[WorldMap.NAME==\"United States\",\"NAME\"]=\"US\""
   ]
  },
  {
   "cell_type": "code",
   "execution_count": null,
   "id": "bcf6226a",
   "metadata": {},
   "outputs": [],
   "source": [
    "sinmatchDATA=list(set(datademo.country)- set(WorldMap.NAME))\n",
    "sinmatchMAP=list(set(WorldMap.NAME)-set(datademo.country) )\n",
    "len(sinmatchDATA), len(sinmatchMAP)"
   ]
  },
  {
   "cell_type": "code",
   "execution_count": null,
   "id": "b682d7ac",
   "metadata": {},
   "outputs": [],
   "source": [
    "[(process.extractOne(country,sinmatchMAP),country) for country in sorted(sinmatchDATA)]"
   ]
  },
  {
   "cell_type": "code",
   "execution_count": null,
   "id": "65722351",
   "metadata": {},
   "outputs": [],
   "source": [
    "# dict de cambios:\n",
    "cambiosMapaName={process.extractOne(country,sinmatchMAP)[0]:country for country in sorted(sinmatchDATA)}\n",
    "cambiosMapaName"
   ]
  },
  {
   "cell_type": "code",
   "execution_count": null,
   "id": "a54a3e4f",
   "metadata": {},
   "outputs": [],
   "source": [
    "# ejecutando cambios \n",
    "WorldMap.NAME.replace(cambiosMapaName,inplace=True)"
   ]
  },
  {
   "cell_type": "markdown",
   "id": "bb6a4d75",
   "metadata": {},
   "source": [
    "## Preparando mapa"
   ]
  },
  {
   "cell_type": "code",
   "execution_count": null,
   "id": "be7e66be",
   "metadata": {},
   "outputs": [],
   "source": [
    "# merge hacia MAPA\n",
    "WorldMap=WorldMap.merge(datademo, left_on='NAME', right_on=\"country\")"
   ]
  },
  {
   "cell_type": "code",
   "execution_count": null,
   "id": "0f8693dd",
   "metadata": {},
   "outputs": [],
   "source": [
    "WorldMap.shape"
   ]
  },
  {
   "cell_type": "code",
   "execution_count": null,
   "id": "fa30f3b8",
   "metadata": {},
   "outputs": [],
   "source": [
    "WorldMap.info()"
   ]
  },
  {
   "cell_type": "code",
   "execution_count": null,
   "id": "383ebc0a",
   "metadata": {},
   "outputs": [],
   "source": [
    "WorldMap.iloc[:,27:]=WorldMap.iloc[:,27:].astype('float')\n",
    "WorldMap.describe()"
   ]
  },
  {
   "cell_type": "code",
   "execution_count": null,
   "id": "f89fa680",
   "metadata": {},
   "outputs": [],
   "source": [
    "# guardando data\n",
    "WorldMap.to_file(\"WorldMapDemo.gpkg\", layer='DISTRITO', driver=\"GPKG\")"
   ]
  },
  {
   "cell_type": "code",
   "execution_count": null,
   "id": "b131821e",
   "metadata": {},
   "outputs": [],
   "source": []
  }
 ],
 "metadata": {
  "hide_input": false,
  "kernelspec": {
   "display_name": "Python 3 (ipykernel)",
   "language": "python",
   "name": "python3"
  },
  "language_info": {
   "codemirror_mode": {
    "name": "ipython",
    "version": 3
   },
   "file_extension": ".py",
   "mimetype": "text/x-python",
   "name": "python",
   "nbconvert_exporter": "python",
   "pygments_lexer": "ipython3",
   "version": "3.8.12"
  }
 },
 "nbformat": 4,
 "nbformat_minor": 5
}
