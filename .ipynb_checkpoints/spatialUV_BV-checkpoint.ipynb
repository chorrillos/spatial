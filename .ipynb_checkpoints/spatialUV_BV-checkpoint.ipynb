{
 "cells": [
  {
   "cell_type": "markdown",
   "id": "a542a1ae",
   "metadata": {},
   "source": [
    "## Leyendo data preparada"
   ]
  },
  {
   "cell_type": "code",
   "execution_count": null,
   "id": "5ad984f0",
   "metadata": {},
   "outputs": [],
   "source": [
    "import geopandas as gpd\n",
    "\n",
    "link=\"https://github.com/chorrillos/spatial/raw/main/WorldMapDemo.gpkg\"\n",
    "WorldDemo=gpd.read_file(link)"
   ]
  },
  {
   "cell_type": "markdown",
   "id": "a74ad51f",
   "metadata": {},
   "source": [
    "## Analisis de variables"
   ]
  },
  {
   "cell_type": "code",
   "execution_count": null,
   "id": "75a70215",
   "metadata": {},
   "outputs": [],
   "source": [
    "WorldDemo.iloc[:,11:].describe()"
   ]
  },
  {
   "cell_type": "code",
   "execution_count": null,
   "id": "b74f4ad0",
   "metadata": {
    "scrolled": true
   },
   "outputs": [],
   "source": [
    "WorldDemo.iloc[:,11:26].boxplot(vert=False)"
   ]
  },
  {
   "cell_type": "code",
   "execution_count": null,
   "id": "543c5518",
   "metadata": {},
   "outputs": [],
   "source": [
    "WorldDemo.iloc[:,27:].boxplot(vert=False)"
   ]
  },
  {
   "cell_type": "code",
   "execution_count": null,
   "id": "a3acdc48",
   "metadata": {},
   "outputs": [],
   "source": [
    "WorldDemo.iloc[:,11:26].hist()"
   ]
  },
  {
   "cell_type": "code",
   "execution_count": null,
   "id": "6432b407",
   "metadata": {},
   "outputs": [],
   "source": [
    "WorldDemo.iloc[:,27:].hist()"
   ]
  },
  {
   "cell_type": "markdown",
   "id": "a913cbf3",
   "metadata": {},
   "source": [
    "## Coropletico:"
   ]
  },
  {
   "cell_type": "code",
   "execution_count": null,
   "id": "34335ee1",
   "metadata": {},
   "outputs": [],
   "source": [
    "import matplotlib.pyplot as plt  # Graphics\n",
    "f, ax = plt.subplots(1, figsize=(12, 12))\n",
    "WorldDemo.plot(column='2011', \n",
    "        cmap='viridis', \n",
    "        scheme='equal_interval',\n",
    "        k=5, \n",
    "        edgecolor='white', \n",
    "        linewidth=0., \n",
    "        alpha=0.75, \n",
    "        legend=True,\n",
    "        legend_kwds=dict(loc=2),\n",
    "        ax=ax\n",
    "       )\n",
    "\n",
    "ax.set_axis_off()"
   ]
  },
  {
   "cell_type": "code",
   "execution_count": null,
   "id": "8fbedae8",
   "metadata": {},
   "outputs": [],
   "source": [
    "import matplotlib.pyplot as plt  # Graphics\n",
    "f, ax = plt.subplots(1, figsize=(12, 12))\n",
    "WorldDemo.plot(column='2021', \n",
    "        cmap='viridis', \n",
    "        scheme='equal_interval',\n",
    "        k=5, \n",
    "        edgecolor='white', \n",
    "        linewidth=0., \n",
    "        alpha=0.75, \n",
    "        legend=True,\n",
    "        legend_kwds=dict(loc=2),\n",
    "        ax=ax\n",
    "       )\n",
    "\n",
    "ax.set_axis_off()"
   ]
  },
  {
   "cell_type": "markdown",
   "id": "4a9ed415",
   "metadata": {},
   "source": [
    "## Analisis Espacial "
   ]
  },
  {
   "cell_type": "code",
   "execution_count": null,
   "id": "13b3818d",
   "metadata": {},
   "outputs": [],
   "source": [
    "from pysal.lib import weights\n",
    "wKNN=weights.distance.KNN.from_dataframe(WorldDemo, k=8)"
   ]
  },
  {
   "cell_type": "code",
   "execution_count": null,
   "id": "191016ce",
   "metadata": {},
   "outputs": [],
   "source": [
    "# vecindad será valor entre 0 y 1\n",
    "wKNN.transform = 'R'"
   ]
  },
  {
   "cell_type": "code",
   "execution_count": null,
   "id": "5ee5fa63",
   "metadata": {},
   "outputs": [],
   "source": [
    "from esda.moran import Moran\n",
    "\n",
    "moran2011 = Moran(WorldDemo['2011'], wKNN)\n",
    "moran2011.I,moran2011.p_sim"
   ]
  },
  {
   "cell_type": "code",
   "execution_count": null,
   "id": "b03ea506",
   "metadata": {},
   "outputs": [],
   "source": [
    "from splot.esda import moran_scatterplot\n",
    "fig, ax = moran_scatterplot(moran2011, aspect_equal=True)\n",
    "ax.set_xlabel('2011')\n",
    "ax.set_ylabel('Spatial Lag 2011')\n",
    "plt.show()"
   ]
  },
  {
   "cell_type": "code",
   "execution_count": null,
   "id": "55f45bc3",
   "metadata": {},
   "outputs": [],
   "source": [
    "moran2021 = Moran(WorldDemo['2021'], wKNN)\n",
    "moran2021.I,moran2021.p_sim"
   ]
  },
  {
   "cell_type": "code",
   "execution_count": null,
   "id": "9fafe8ce",
   "metadata": {},
   "outputs": [],
   "source": [
    "from splot.esda import moran_scatterplot\n",
    "fig, ax = moran_scatterplot(moran2011, aspect_equal=True)\n",
    "ax.set_xlabel('2021')\n",
    "ax.set_ylabel('Spatial Lag 2021')\n",
    "plt.show()"
   ]
  },
  {
   "cell_type": "markdown",
   "id": "143fceef",
   "metadata": {},
   "source": [
    "### Coeficiente de correlación local"
   ]
  },
  {
   "cell_type": "code",
   "execution_count": null,
   "id": "57358de8",
   "metadata": {},
   "outputs": [],
   "source": [
    "from esda.moran import Moran_Local\n",
    "\n",
    "# calculate Moran_Local and plot\n",
    "lisa2011 = Moran_Local(y=WorldDemo['2011'], w=wKNN,seed=2022)\n",
    "fig, ax = moran_scatterplot(lisa2011,p=0.05)\n",
    "ax.set_xlabel('2011')\n",
    "ax.set_ylabel('Spatial Lag 2011')\n",
    "plt.show()"
   ]
  },
  {
   "cell_type": "code",
   "execution_count": null,
   "id": "8949a61d",
   "metadata": {},
   "outputs": [],
   "source": [
    "# calculate Moran_Local and plot\n",
    "lisa2021 = Moran_Local(y=WorldDemo['2021'], w=wKNN,seed=2022)\n",
    "fig, ax = moran_scatterplot(lisa2021,p=0.05)\n",
    "ax.set_xlabel('2021')\n",
    "ax.set_ylabel('Spatial Lag 2021')\n",
    "plt.show()"
   ]
  },
  {
   "cell_type": "markdown",
   "id": "aef02514",
   "metadata": {},
   "source": [
    "### LISA por cuadrante"
   ]
  },
  {
   "cell_type": "code",
   "execution_count": null,
   "id": "ccb1cf3a",
   "metadata": {},
   "outputs": [],
   "source": [
    "from splot.esda import lisa_cluster\n",
    "f, ax = plt.subplots(1, figsize=(12, 12))\n",
    "fig = lisa_cluster(lisa2011, \n",
    "                   WorldDemo,ax=ax,\n",
    "                   legend_kwds={'loc': 'upper left', \n",
    "                                'bbox_to_anchor': (0.99, 1.05)})\n",
    "plt.show()"
   ]
  },
  {
   "cell_type": "code",
   "execution_count": null,
   "id": "aafc1802",
   "metadata": {},
   "outputs": [],
   "source": [
    "f, ax = plt.subplots(1, figsize=(12, 12))\n",
    "fig = lisa_cluster(lisa2021, \n",
    "                   WorldDemo,ax=ax,\n",
    "                   legend_kwds={'loc': 'upper left', \n",
    "                                'bbox_to_anchor': (0.99, 1.05)})\n",
    "plt.show()"
   ]
  },
  {
   "cell_type": "code",
   "execution_count": null,
   "id": "2f476048",
   "metadata": {},
   "outputs": [],
   "source": [
    "from esda.moran import Moran_Local_BV\n",
    "\n",
    "lisa2021_2011_bv = Moran_Local_BV(WorldDemo['2021'], \n",
    "                                  WorldDemo['2011'], \n",
    "                                  wKNN)"
   ]
  },
  {
   "cell_type": "code",
   "execution_count": null,
   "id": "50de7918",
   "metadata": {},
   "outputs": [],
   "source": [
    "fig, ax = moran_scatterplot(lisa2021_2011_bv, p=0.05)\n",
    "ax.set_xlabel('2021')\n",
    "ax.set_ylabel('Spatial lag of 2011')\n",
    "plt.show()"
   ]
  },
  {
   "cell_type": "code",
   "execution_count": null,
   "id": "9f456ea7",
   "metadata": {},
   "outputs": [],
   "source": [
    "f, ax = plt.subplots(1, figsize=(12, 12))\n",
    "fig = lisa_cluster(lisa2021_2011_bv, \n",
    "                   WorldDemo,ax=ax,\n",
    "                   legend_kwds={'loc': 'upper left', \n",
    "                                'bbox_to_anchor': (0.99, 1.05)})\n",
    "plt.show()"
   ]
  },
  {
   "cell_type": "code",
   "execution_count": null,
   "id": "357c6cdb",
   "metadata": {},
   "outputs": [],
   "source": [
    "qs2011=[l if p <0.05 else 5 for l,p in zip(lisa2011.q,lisa2011.p_sim)  ]\n",
    "qs2021=[l if p <0.05 else 5 for l,p in zip(lisa2021.q,lisa2021.p_sim)  ]\n",
    "qs21_11=[l if p <0.05 else 5 for l,p in zip(lisa2021_2011_bv.q,lisa2021_2011_bv.p_sim)  ]"
   ]
  },
  {
   "cell_type": "code",
   "execution_count": null,
   "id": "13c8fc81",
   "metadata": {},
   "outputs": [],
   "source": [
    "WorldDemo['qs2011']=qs2011\n",
    "WorldDemo['qs2021']=qs2021\n",
    "WorldDemo['qs21_11']=qs21_11"
   ]
  },
  {
   "cell_type": "code",
   "execution_count": null,
   "id": "7579f7fb",
   "metadata": {},
   "outputs": [],
   "source": [
    "WorldDemo.columns"
   ]
  },
  {
   "cell_type": "code",
   "execution_count": null,
   "id": "e7f182dc",
   "metadata": {},
   "outputs": [],
   "source": []
  },
  {
   "cell_type": "code",
   "execution_count": null,
   "id": "71f0ebfc",
   "metadata": {},
   "outputs": [],
   "source": [
    "from matplotlib import colors\n",
    "f, axs = plt.subplots(nrows=3, ncols=1, figsize=(10,10))\n",
    "axs = axs.flatten()\n",
    "\n",
    "ax = axs[0]\n",
    "hmap = colors.ListedColormap([ 'ghostwhite', 'orange', 'lightblue', 'ghostwhite','ghostwhite'])\n",
    "WorldDemo.plot(column='qs2011', \n",
    "                 categorical=True,\n",
    "                 cmap=hmap,\n",
    "                 linewidth=0.1, \n",
    "                 ax=ax,\n",
    "                 edgecolor='white',\n",
    "                 legend=True)\n",
    "ax = axs[1]\n",
    "\n",
    "WorldDemo.plot(column='qs2021', \n",
    "                 categorical=True,\n",
    "                 cmap=hmap,\n",
    "                 linewidth=0.1, \n",
    "                 ax=ax,\n",
    "                 edgecolor='white',\n",
    "                 legend=True)\n",
    "\n",
    "ax = axs[2]\n",
    "\n",
    "WorldDemo.plot(column='qs21_11', \n",
    "                 categorical=True,\n",
    "                 cmap=hmap,\n",
    "                 linewidth=0.1, \n",
    "                 ax=ax,\n",
    "                 edgecolor='white',\n",
    "                 legend=True)\n",
    "\n",
    "for i, ax in enumerate(axs.flatten()):\n",
    "    ax.set_axis_off()\n",
    "    ax.set_title(['2011', \n",
    "                  '2021', \n",
    "                  '2021_2011'][i], y=1)\n",
    "\n",
    "f.tight_layout()\n",
    "plt.show()\n"
   ]
  },
  {
   "cell_type": "code",
   "execution_count": null,
   "id": "bcac1281",
   "metadata": {},
   "outputs": [],
   "source": [
    "lisa_elec_func_bv = Moran_Local_BV(WorldDemo['electoralprocessandpluralism'], \n",
    "                                  WorldDemo['functioningofgovernment'], \n",
    "                                  wKNN)\n",
    "\n",
    "fig, ax = moran_scatterplot(lisa_elec_func_bv, p=0.05)\n",
    "ax.set_xlabel('electoral')\n",
    "ax.set_ylabel('Spatial lag of funcionamiento')\n",
    "plt.show()"
   ]
  },
  {
   "cell_type": "code",
   "execution_count": null,
   "id": "d4c68096",
   "metadata": {},
   "outputs": [],
   "source": [
    "f, ax = plt.subplots(1, figsize=(12, 12))\n",
    "fig = lisa_cluster(lisa_elec_func_bv, \n",
    "                   WorldDemo,ax=ax,\n",
    "                   legend_kwds={'loc': 'upper left', \n",
    "                                'bbox_to_anchor': (0.99, 1.05)})\n",
    "plt.show()"
   ]
  },
  {
   "cell_type": "code",
   "execution_count": null,
   "id": "5c156550",
   "metadata": {},
   "outputs": [],
   "source": []
  }
 ],
 "metadata": {
  "hide_input": false,
  "kernelspec": {
   "display_name": "Python 3 (ipykernel)",
   "language": "python",
   "name": "python3"
  },
  "language_info": {
   "codemirror_mode": {
    "name": "ipython",
    "version": 3
   },
   "file_extension": ".py",
   "mimetype": "text/x-python",
   "name": "python",
   "nbconvert_exporter": "python",
   "pygments_lexer": "ipython3",
   "version": "3.8.12"
  }
 },
 "nbformat": 4,
 "nbformat_minor": 5
}
