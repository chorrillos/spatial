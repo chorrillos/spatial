{
 "cells": [
  {
   "cell_type": "markdown",
   "id": "a542a1ae",
   "metadata": {},
   "source": [
    "## Descargando mapa y data:"
   ]
  },
  {
   "cell_type": "code",
   "execution_count": null,
   "id": "5ad984f0",
   "metadata": {},
   "outputs": [],
   "source": [
    "import geopandas as gpd\n",
    "\n",
    "link=\"https://github.com/chorrillos/preprocesamiento/raw/main/distritos/DistritosMap.zip\"\n",
    "selecDisMap=gpd.read_file(link)"
   ]
  },
  {
   "cell_type": "code",
   "execution_count": null,
   "id": "44feb94c",
   "metadata": {},
   "outputs": [],
   "source": [
    "import pandas as pd\n",
    "link2=\"https://github.com/chorrillos/spatial/raw/main/consolidado.variables.seleccionadas.xlsx\"\n",
    "datadis=pd.read_excel(link2)"
   ]
  },
  {
   "cell_type": "markdown",
   "id": "cbaeaa3f",
   "metadata": {},
   "source": [
    "## Corrigiendo texto clave"
   ]
  },
  {
   "cell_type": "code",
   "execution_count": null,
   "id": "b682d7ac",
   "metadata": {},
   "outputs": [],
   "source": [
    "selecDisMap[selecDisMap.DISTRITO.str.contains('OCTUBRE')]"
   ]
  },
  {
   "cell_type": "code",
   "execution_count": null,
   "id": "65722351",
   "metadata": {},
   "outputs": [],
   "source": [
    "datadis[datadis.Distrito.str.contains('OCTUBRE')]"
   ]
  },
  {
   "cell_type": "code",
   "execution_count": null,
   "id": "dcf0720f",
   "metadata": {},
   "outputs": [],
   "source": [
    "datadis.loc[datadis.Distrito.str.contains('OCTUBRE'),'Distrito']=\"VEINTISEIS DE OCTUBRE\""
   ]
  },
  {
   "cell_type": "markdown",
   "id": "3da9bf73",
   "metadata": {},
   "source": [
    "## Normalizando texto"
   ]
  },
  {
   "cell_type": "code",
   "execution_count": null,
   "id": "c5b7efc5",
   "metadata": {},
   "outputs": [],
   "source": [
    "#todo mayuscula sin blanco delante ni cola \n",
    "\n",
    "datadis[['PROVINCIA','Distrito']]=datadis[['PROVINCIA','Distrito']].apply(lambda x: x.str.upper().str.strip())\n",
    "selecDisMap[['PROVINCIA','DISTRITO']]=selecDisMap[['PROVINCIA','DISTRITO']].apply(lambda x: x.str.upper().str.strip())\n",
    "\n",
    "\n",
    "# concatenando\n",
    "datadis['provDist']=[\"+\".join(pd) for pd in zip (datadis.PROVINCIA,datadis.Distrito)]\n",
    "selecDisMap['provDist']=[\"+\".join(pd) for pd in zip (selecDisMap.PROVINCIA,selecDisMap.DISTRITO)]\n",
    "\n",
    "\n",
    "# eliminando simbolos \n",
    "import unidecode\n",
    "datadis.provDist=[unidecode.unidecode(dist) for dist in datadis.provDist]\n",
    "selecDisMap.provDist=[unidecode.unidecode(dist) for dist in selecDisMap.provDist]\n",
    "\n",
    "# reemplazando guiones y espacios multiples por espacio simple\n",
    "datadis.provDist=datadis.provDist.str.replace(\"\\-|\\_|\\s+\",\" \",regex=True)\n",
    "selecDisMap.provDist=selecDisMap.provDist.str.replace(\"\\-|\\_|\\s+\",\" \",regex=True)"
   ]
  },
  {
   "cell_type": "markdown",
   "id": "49a1d9b5",
   "metadata": {},
   "source": [
    "## Detectando diferencias"
   ]
  },
  {
   "cell_type": "code",
   "execution_count": null,
   "id": "8d95989b",
   "metadata": {},
   "outputs": [],
   "source": [
    "# valores sin match\n",
    "sinmatchDATA=list(set(datadis.provDist)- set(selecDisMap.provDist))\n",
    "sinmatchMAP=list(set(selecDisMap.provDist)-set(datadis.provDist) )"
   ]
  },
  {
   "cell_type": "code",
   "execution_count": null,
   "id": "f539744d",
   "metadata": {},
   "outputs": [],
   "source": [
    "len(sinmatchDATA), len(sinmatchMAP)"
   ]
  },
  {
   "cell_type": "markdown",
   "id": "bc024591",
   "metadata": {},
   "source": [
    "## Buscando matches:"
   ]
  },
  {
   "cell_type": "code",
   "execution_count": null,
   "id": "e3d46bf5",
   "metadata": {},
   "outputs": [],
   "source": [
    "from thefuzz import process\n",
    "[(dis,process.extractOne(dis,sinmatchMAP)) for dis in sorted(sinmatchDATA)]"
   ]
  },
  {
   "cell_type": "code",
   "execution_count": null,
   "id": "a968a5ef",
   "metadata": {},
   "outputs": [],
   "source": [
    "# dict de cambios:\n",
    "cambiosDataDis={dis:process.extractOne(dis,sinmatchMAP)[0] for dis in sorted(sinmatchDATA)}\n",
    "cambiosDataDis"
   ]
  },
  {
   "cell_type": "code",
   "execution_count": null,
   "id": "a54a3e4f",
   "metadata": {},
   "outputs": [],
   "source": [
    "# ejecutando cambios - \"datadis\" está OK!\n",
    "datadis.provDist.replace(cambiosDataDis,inplace=True)"
   ]
  },
  {
   "cell_type": "markdown",
   "id": "bb6a4d75",
   "metadata": {},
   "source": [
    "## Preparando mapa"
   ]
  },
  {
   "cell_type": "code",
   "execution_count": null,
   "id": "be7e66be",
   "metadata": {},
   "outputs": [],
   "source": [
    "# merge hacia MAPA\n",
    "selecDisMap=selecDisMap.merge(datadis, on='provDist')"
   ]
  },
  {
   "cell_type": "code",
   "execution_count": null,
   "id": "0162f5ed",
   "metadata": {},
   "outputs": [],
   "source": [
    "selecDisMap.columns"
   ]
  },
  {
   "cell_type": "code",
   "execution_count": null,
   "id": "d1a73e8a",
   "metadata": {},
   "outputs": [],
   "source": [
    "# columnas que se sacan\n",
    "sacar=['Ubigeo', 'DEPARTAMEN', 'PROVINCIA_x','INSTITUCIO', 'Distrito']\n",
    "selecDisMap.drop(sacar,axis=1,inplace=True)"
   ]
  },
  {
   "cell_type": "code",
   "execution_count": null,
   "id": "d546312d",
   "metadata": {},
   "outputs": [],
   "source": [
    "# columnas a renombrar\n",
    "selecDisMap.rename(columns={'PROVINCIA_y':\"PROVINCIA\"},inplace=True)"
   ]
  },
  {
   "cell_type": "code",
   "execution_count": null,
   "id": "b05dcbca",
   "metadata": {},
   "outputs": [],
   "source": [
    "# actual\n",
    "selecDisMap.columns"
   ]
  },
  {
   "cell_type": "code",
   "execution_count": null,
   "id": "e792b4c1",
   "metadata": {},
   "outputs": [],
   "source": [
    "# sin puntos en nombre de archivo\n",
    "selecDisMap.columns=selecDisMap.columns.str.replace(\".\",\"_\",regex=False)"
   ]
  },
  {
   "cell_type": "code",
   "execution_count": null,
   "id": "c6c070ae",
   "metadata": {},
   "outputs": [],
   "source": [
    "selecDisMap.columns"
   ]
  },
  {
   "cell_type": "markdown",
   "id": "a74ad51f",
   "metadata": {},
   "source": [
    "## Analisis de variables"
   ]
  },
  {
   "cell_type": "code",
   "execution_count": null,
   "id": "75a70215",
   "metadata": {},
   "outputs": [],
   "source": [
    "cols1=['cobertura_cell', 'Educ_sec_comp', 'esp_vid_nacer',\n",
    "             'Ing_fam_p_cap','NBI_2017_c','No_Pobreza']\n",
    "selecDisMap[cols1].describe()"
   ]
  },
  {
   "cell_type": "code",
   "execution_count": null,
   "id": "b74f4ad0",
   "metadata": {},
   "outputs": [],
   "source": [
    "selecDisMap[cols1].boxplot(vert=False)"
   ]
  },
  {
   "cell_type": "markdown",
   "id": "a25a95a8",
   "metadata": {},
   "source": [
    "## Ajuste de rangos"
   ]
  },
  {
   "cell_type": "code",
   "execution_count": null,
   "id": "98027a41",
   "metadata": {},
   "outputs": [],
   "source": [
    "from sklearn.preprocessing import MinMaxScaler\n",
    "\n",
    "scaler = MinMaxScaler(feature_range=(0, 100))\n",
    "selecDisMap['Ing_fam_p_cap_N']=scaler.fit_transform(selecDisMap['Ing_fam_p_cap'].values.reshape(-1,1))\n"
   ]
  },
  {
   "cell_type": "code",
   "execution_count": null,
   "id": "2347135a",
   "metadata": {},
   "outputs": [],
   "source": [
    "cols2=['cobertura_cell', 'Educ_sec_comp', 'esp_vid_nacer',\n",
    "             'Ing_fam_p_cap_N','NBI_2017_c','No_Pobreza']\n",
    "\n",
    "selecDisMap[cols2].describe()"
   ]
  },
  {
   "cell_type": "code",
   "execution_count": null,
   "id": "a3acdc48",
   "metadata": {},
   "outputs": [],
   "source": [
    "selecDisMap[cols2].hist()"
   ]
  },
  {
   "cell_type": "code",
   "execution_count": null,
   "id": "21761270",
   "metadata": {},
   "outputs": [],
   "source": [
    "# normalidad\n",
    "from scipy import stats\n",
    "\n",
    "k2, p = stats.normaltest(selecDisMap[cols2])\n",
    "pd.Series(p)"
   ]
  },
  {
   "cell_type": "markdown",
   "id": "4a9ed415",
   "metadata": {},
   "source": [
    "## Analisis Espacial de \"spots\""
   ]
  },
  {
   "cell_type": "code",
   "execution_count": null,
   "id": "03a32355",
   "metadata": {},
   "outputs": [],
   "source": [
    "import matplotlib.pyplot as plt  # Graphics\n",
    "from matplotlib import colors\n",
    "import seaborn                   # Graphics\n",
    "from pysal.explore import esda   # Exploratory Spatial analytics\n",
    "from pysal.lib import weights"
   ]
  },
  {
   "cell_type": "markdown",
   "id": "a913cbf3",
   "metadata": {},
   "source": [
    "## Coropletico:"
   ]
  },
  {
   "cell_type": "code",
   "execution_count": null,
   "id": "34335ee1",
   "metadata": {},
   "outputs": [],
   "source": [
    "f, ax = plt.subplots(1, figsize=(9, 9))\n",
    "selecDisMap.plot(column='NBI_2017_c', \n",
    "        cmap='viridis', \n",
    "        scheme='equal_interval',\n",
    "        k=5, \n",
    "        edgecolor='white', \n",
    "        linewidth=0., \n",
    "        alpha=0.75, \n",
    "        legend=True,\n",
    "        legend_kwds=dict(loc=2),\n",
    "        ax=ax\n",
    "       )\n",
    "\n",
    "ax.set_axis_off()"
   ]
  },
  {
   "cell_type": "markdown",
   "id": "877aecc5",
   "metadata": {},
   "source": [
    "### Cómo saber si un distrito tiene algun parecido a sus vecinos?"
   ]
  },
  {
   "cell_type": "code",
   "execution_count": null,
   "id": "13b3818d",
   "metadata": {},
   "outputs": [],
   "source": [
    "#wQ = weights.contiguity.Queen.from_dataframe(selecDisMap)\n",
    "wKNN=weights.distance.KNN.from_dataframe(selecDisMap, k=8)"
   ]
  },
  {
   "cell_type": "code",
   "execution_count": null,
   "id": "191016ce",
   "metadata": {},
   "outputs": [],
   "source": [
    "# vecindad será valor entre 0 y 1\n",
    "wKNN.transform = 'R'"
   ]
  },
  {
   "cell_type": "code",
   "execution_count": null,
   "id": "759e7197",
   "metadata": {},
   "outputs": [],
   "source": [
    "# hay islas?\n",
    "wKNN.islands"
   ]
  },
  {
   "cell_type": "code",
   "execution_count": null,
   "id": "82b44224",
   "metadata": {},
   "outputs": [],
   "source": [
    "# El lag: como se comporta variable en sus vecinos\n",
    "selecDisMap['w_NBI_2017_c'] = weights.spatial_lag.lag_spatial(wKNN, selecDisMap['NBI_2017_c'])"
   ]
  },
  {
   "cell_type": "code",
   "execution_count": null,
   "id": "49109e2c",
   "metadata": {},
   "outputs": [],
   "source": [
    "# standarizando  x y lagx\n",
    "zscore = lambda x : (x-x.mean())/x.std()\n",
    "selecDisMap[['z_NBI_2017_c','z_w_NBI_2017_c']]=selecDisMap[['NBI_2017_c','w_NBI_2017_c']].apply(zscore)"
   ]
  },
  {
   "cell_type": "code",
   "execution_count": null,
   "id": "fc696d8b",
   "metadata": {},
   "outputs": [],
   "source": [
    "# x y xlag , por cuadrantes\n",
    "seaborn.scatterplot(data=selecDisMap, x='z_NBI_2017_c', y='z_w_NBI_2017_c')\n",
    "plt.axvline(0, c='k', alpha=0.5)\n",
    "plt.axhline(0, c='k', alpha=0.5)"
   ]
  },
  {
   "cell_type": "markdown",
   "id": "143fceef",
   "metadata": {},
   "source": [
    "### Qué valores representan cada cuadrante con significancia estadística?"
   ]
  },
  {
   "cell_type": "code",
   "execution_count": null,
   "id": "c9f84f05",
   "metadata": {},
   "outputs": [],
   "source": [
    "lisaNBI = esda.moran.Moran_Local(y=selecDisMap['NBI_2017_c'],\n",
    "                                 w=wKNN,\n",
    "                                permutations=1000,\n",
    "                                seed=123)\n",
    "\n",
    "# guardando coeficiente de cada distrito\n",
    "selecDisMap['lisaNBI'] = lisaNBI.Is"
   ]
  },
  {
   "cell_type": "code",
   "execution_count": null,
   "id": "bb2bdf8a",
   "metadata": {},
   "outputs": [],
   "source": [
    "# como está el LISA:\n",
    "ax = seaborn.kdeplot(selecDisMap['lisaNBI'])\n",
    "seaborn.rugplot(selecDisMap['lisaNBI'], ax=ax)"
   ]
  },
  {
   "cell_type": "markdown",
   "id": "aef02514",
   "metadata": {},
   "source": [
    "### LISA por cuadrante"
   ]
  },
  {
   "cell_type": "code",
   "execution_count": null,
   "id": "db70647b",
   "metadata": {},
   "outputs": [],
   "source": [
    "# tipo de spots: HH=1, LH=2, LL=3, HL=4\n",
    "pd.Series(lisaNBI.q).value_counts()"
   ]
  },
  {
   "cell_type": "code",
   "execution_count": null,
   "id": "14864d8d",
   "metadata": {},
   "outputs": [],
   "source": [
    "# guardando cuadrante:\n",
    "q_labels = ['Q1', 'Q2', 'Q3', 'Q4']\n",
    "labels = [q_labels[i-1] for i in lisaNBI.q]\n",
    "selecDisMap=selecDisMap.assign(CuadrantesNBI=labels)\n",
    "selecDisMap[['CuadrantesNBI']]"
   ]
  },
  {
   "cell_type": "code",
   "execution_count": null,
   "id": "2b21c35f",
   "metadata": {},
   "outputs": [],
   "source": [
    "# cuales son sig?\n",
    "lisaNBI.p_sim"
   ]
  },
  {
   "cell_type": "code",
   "execution_count": null,
   "id": "3abb5df7",
   "metadata": {},
   "outputs": [],
   "source": [
    "seaborn.histplot(lisaNBI.p_sim)"
   ]
  },
  {
   "cell_type": "code",
   "execution_count": null,
   "id": "5eea38dc",
   "metadata": {},
   "outputs": [],
   "source": [
    "# guardando LISAs significativos\n",
    "lisaSigNBI = 1 * (lisaNBI.p_sim < 0.05) # de True/False a 1/0\n",
    "labels = ['no-sig', 'significativo']  \n",
    "labels = [labels[i] for i in lisaSigNBI]\n",
    "selecDisMap=selecDisMap.assign(SigNBI=labels)\n",
    "selecDisMap[['SigNBI']]"
   ]
  },
  {
   "cell_type": "markdown",
   "id": "8e8ecc46",
   "metadata": {},
   "source": [
    "### Spots  (LISA significativo)"
   ]
  },
  {
   "cell_type": "code",
   "execution_count": null,
   "id": "47fb01e3",
   "metadata": {},
   "outputs": [],
   "source": [
    "# encontrando spots\n",
    "\n",
    "hotSpot = 1 * (lisaSigNBI * lisaNBI.q==1)\n",
    "coldOutlier = 2 * (lisaSigNBI * lisaNBI.q==2)\n",
    "coldSpot = 3 * (lisaSigNBI * lisaNBI.q==3)\n",
    "hotOutlier = 4 * (lisaSigNBI * lisaNBI.q==4)\n",
    "\n",
    "spots = hotSpot + coldSpot + coldOutlier + hotOutlier\n",
    "spot_labels = [ '0 no_sig', '1 hotSpot', '2 coldOutlier', '3 coldSpot', '4 hotOutlier']\n",
    "labels = [spot_labels[i] for i in spots]\n",
    "selecDisMap=selecDisMap.assign(SpotsNBI=labels)\n",
    "selecDisMap[['SpotsNBI']]"
   ]
  },
  {
   "cell_type": "markdown",
   "id": "0ec3a0ff",
   "metadata": {},
   "source": [
    "### escenario global"
   ]
  },
  {
   "cell_type": "code",
   "execution_count": null,
   "id": "d743f4f7",
   "metadata": {},
   "outputs": [],
   "source": [
    "# 4 graficas\n",
    "f, axs = plt.subplots(nrows=2, ncols=2, figsize=(12, 12))\n",
    "axs = axs.flatten()\n",
    "\n",
    "# COROPLETICO DEL LISA #\n",
    "ax = axs[0]\n",
    "selecDisMap.plot(column='lisaNBI', \n",
    "                 cmap='plasma', \n",
    "                 scheme='equal_interval',\n",
    "                 k=5,\n",
    "                 edgecolor='white',\n",
    "                 linewidth=0.1, \n",
    "                 alpha=0.75,\n",
    "                 legend=True, \n",
    "                 ax=ax)\n",
    "\n",
    "# CUADRANTES #\n",
    "ax = axs[1]\n",
    "hmap = colors.ListedColormap([ 'red', 'lightblue', 'blue', 'pink'])\n",
    "selecDisMap.plot(column='CuadrantesNBI', \n",
    "                 categorical=True,\n",
    "                 cmap=hmap,\n",
    "                 linewidth=0.1, \n",
    "                 ax=ax,\n",
    "                 edgecolor='white',\n",
    "                 legend=True)\n",
    "\n",
    "# LISA SIGNIFICATIVO #\n",
    "\n",
    "ax = axs[2]\n",
    "hmap = colors.ListedColormap(['grey','black'])\n",
    "selecDisMap.plot(column='SigNBI',\n",
    "                 categorical=True,\n",
    "                 cmap=hmap, linewidth=0.1, ax=ax,\n",
    "                 edgecolor='white', legend=True)\n",
    "\n",
    "                       \n",
    "# LISA SPOTS #\n",
    "ax = axs[3]\n",
    "\n",
    "hmap = colors.ListedColormap([ 'white', 'red', 'lightblue', 'blue', 'pink'])\n",
    "selecDisMap.plot(column='SpotsNBI',\n",
    "                 categorical=True,\n",
    "                 cmap=hmap,\n",
    "                 linewidth=0.1, ax=ax,\n",
    "                 edgecolor='white', legend=True)\n",
    "\n",
    "for i, ax in enumerate(axs.flatten()):\n",
    "    ax.set_axis_off()\n",
    "    ax.set_title(['Coropletico Autocorrelacion local', \n",
    "                  'Cuadrantes', \n",
    "                  'significativoS', \n",
    "                  'Spots '][i], y=0)\n",
    "\n",
    "f.tight_layout()\n",
    "\n",
    "plt.show()"
   ]
  },
  {
   "cell_type": "code",
   "execution_count": null,
   "id": "0445b817",
   "metadata": {},
   "outputs": [],
   "source": [
    "# guardando data\n",
    "selecDisMap.to_file(\"selecDisMap.gpkg\", layer='DISTRITO', driver=\"GPKG\")"
   ]
  },
  {
   "cell_type": "markdown",
   "id": "49b3d83e",
   "metadata": {},
   "source": [
    "### Enfocandonos en los ZG"
   ]
  },
  {
   "cell_type": "code",
   "execution_count": null,
   "id": "84211b85",
   "metadata": {},
   "outputs": [],
   "source": [
    "datadis.Zona.value_counts()"
   ]
  },
  {
   "cell_type": "code",
   "execution_count": null,
   "id": "3a34d102",
   "metadata": {},
   "outputs": [],
   "source": [
    "# qué relacion es más evidente?\n",
    "pd.crosstab(selecDisMap.Zona, \n",
    "            selecDisMap.SpotsNBI,\n",
    "            dropna=False)"
   ]
  },
  {
   "cell_type": "code",
   "execution_count": null,
   "id": "43f599e8",
   "metadata": {},
   "outputs": [],
   "source": [
    "# x y xlag , por cuadrantes\n",
    "f, ax = plt.subplots(1, figsize=(12, 12))\n",
    "seaborn.scatterplot(data=selecDisMap, x='z_NBI_2017_c', y='z_w_NBI_2017_c',hue=\"SpotsNBI\",ax=ax)\n",
    "plt.axvline(0, c='k', alpha=0.5)\n",
    "plt.axhline(0, c='k', alpha=0.5)\n",
    "plt.text(1, 3, \"hotSpot\", fontsize=25)\n",
    "plt.text(1, -3.5, \"hotOutlier\", fontsize=25)\n",
    "plt.text(-1.5, 3, \"coldOutlier\", fontsize=25)\n",
    "plt.text(-1.5, -3.5, \"coldSpot\", fontsize=25)"
   ]
  },
  {
   "cell_type": "code",
   "execution_count": null,
   "id": "6df0ff86",
   "metadata": {},
   "outputs": [],
   "source": [
    "# los distritos donde hay mas probabilidad de ser ZG segun lo anterior\n",
    "f, ax = plt.subplots(1, figsize=(12, 12))\n",
    "seaborn.scatterplot(data=selecDisMap[selecDisMap.SpotsNBI=='3 coldSpot'], \n",
    "                    x='z_NBI_2017_c', \n",
    "                    y='z_w_NBI_2017_c',ax=ax,\n",
    "                    hue=\"Zona\")"
   ]
  },
  {
   "cell_type": "markdown",
   "id": "18b5bc16",
   "metadata": {},
   "source": [
    "# graficando vecindario más probable"
   ]
  },
  {
   "cell_type": "code",
   "execution_count": null,
   "id": "af5cfbfd",
   "metadata": {},
   "outputs": [],
   "source": [
    "# preparando puntos (proyectados)\n",
    "selecDisPoints=gpd.GeoDataFrame(selecDisMap[selecDisMap.SpotsNBI=='3 coldSpot'],\n",
    "                                geometry=gpd.points_from_xy(selecDisMap[selecDisMap.SpotsNBI=='3 coldSpot'].Longitud,\n",
    "                                                          selecDisMap[selecDisMap.SpotsNBI=='3 coldSpot'].Latitud))"
   ]
  },
  {
   "cell_type": "code",
   "execution_count": null,
   "id": "7b3fd895",
   "metadata": {},
   "outputs": [],
   "source": [
    "selecDisPoints.crs"
   ]
  },
  {
   "cell_type": "code",
   "execution_count": null,
   "id": "66dcc120",
   "metadata": {},
   "outputs": [],
   "source": [
    "# asegurando que comparten misma proyección\n",
    "selecDisPoints.crs=selecDisMap.crs\n",
    "selecDisPoints.crs"
   ]
  },
  {
   "cell_type": "markdown",
   "id": "2dcdde77",
   "metadata": {},
   "source": [
    "### ZG y vecinos"
   ]
  },
  {
   "cell_type": "code",
   "execution_count": null,
   "id": "cd6d6eb4",
   "metadata": {},
   "outputs": [],
   "source": [
    "f, ax = plt.subplots(1, figsize=(12, 12))\n",
    "hmap = colors.ListedColormap([ 'black', 'red'])\n",
    "base=selecDisMap.plot(ax=ax,color='white',\n",
    "                 edgecolor='lightgrey')\n",
    "selecDisPoints.plot(column='Zona',\n",
    "                    categorical=True,\n",
    "                    ax=base, marker='+', markersize=100,\n",
    "                    cmap=hmap)"
   ]
  },
  {
   "cell_type": "code",
   "execution_count": null,
   "id": "7f8b7ce1",
   "metadata": {},
   "outputs": [],
   "source": []
  }
 ],
 "metadata": {
  "hide_input": false,
  "kernelspec": {
   "display_name": "Python 3 (ipykernel)",
   "language": "python",
   "name": "python3"
  },
  "language_info": {
   "codemirror_mode": {
    "name": "ipython",
    "version": 3
   },
   "file_extension": ".py",
   "mimetype": "text/x-python",
   "name": "python",
   "nbconvert_exporter": "python",
   "pygments_lexer": "ipython3",
   "version": "3.8.12"
  }
 },
 "nbformat": 4,
 "nbformat_minor": 5
}
